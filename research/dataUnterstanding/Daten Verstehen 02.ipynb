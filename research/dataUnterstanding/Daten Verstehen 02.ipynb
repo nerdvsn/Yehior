{
 "cells": [
  {
   "cell_type": "code",
   "execution_count": 1,
   "id": "4adf7329",
   "metadata": {},
   "outputs": [
    {
     "name": "stdout",
     "output_type": "stream",
     "text": [
      "Gemischte Umgebungsstrahlung X:\n",
      "[0.92  0.97  1.005 0.935]\n",
      "Band 1: 0.9200\n",
      "Band 2: 0.9700\n",
      "Band 3: 1.0050\n",
      "Band 4: 0.9350\n"
     ]
    }
   ],
   "source": [
    "import numpy as np\n",
    "\n",
    "# 1. Matrix: S_EnvObj (5 Materialien × 4 Spektralbänder)\n",
    "# Spektren von verschiedenen Objekten\n",
    "S_EnvObj = np.array([\n",
    "    [1.0, 1.1, 1.3, 1.2],  # Material 1 (z. B. Himmel)\n",
    "    [0.8, 0.9, 1.0, 0.9],  # Material 2 (z. B. Asphalt)\n",
    "    [0.5, 0.6, 0.7, 0.6],  # Material 3 (z. B. Pflanze)\n",
    "    [1.5, 1.4, 1.2, 1.1],  # Material 4 (z. B. Metall)\n",
    "    [0.7, 0.8, 0.9, 1.0]   # Material 5 (z. B. Holz)\n",
    "])\n",
    "\n",
    "# 2. Gewichtungsvektor V (Summe = 1.0)\n",
    "# Verschiedene Objekten die auf dem Bild zu sehen sind ( Sie Summe ergeben 100%)\n",
    "V = np.array([\n",
    "    0.1,   # 10% Himmel\n",
    "    0.3,   # 30% Asphalt\n",
    "    0.2,   # 20% Pflanze\n",
    "    0.25,  # 25% Metall\n",
    "    0.15   # 15% Holz\n",
    "])\n",
    "\n",
    "# 3. Berechnung: X = (V^T @ S_EnvObj).T → ergibt (4×1)-Vektor\n",
    "# Hier rechnen wir die gewichtete Summe, um den richtige Strahlung zu bekommen\n",
    "X = (V @ S_EnvObj).T  # oder: X = np.dot(V, S_EnvObj).T\n",
    "\n",
    "# 4. Ausgabe\n",
    "print(\"Gemischte Umgebungsstrahlung X:\")\n",
    "print(X)\n",
    "\n",
    "# Optional: schön formatiert\n",
    "for i, val in enumerate(X, 1):\n",
    "    print(f\"Band {i}: {val:.4f}\")\n"
   ]
  },
  {
   "cell_type": "markdown",
   "id": "eda21f96",
   "metadata": {},
   "source": [
    "### Emissivität"
   ]
  },
  {
   "cell_type": "code",
   "execution_count": 2,
   "id": "0858078b",
   "metadata": {},
   "outputs": [
    {
     "name": "stdout",
     "output_type": "stream",
     "text": [
      "dict_keys(['__header__', '__version__', '__globals__', 'matLib'])\n"
     ]
    }
   ],
   "source": [
    "import scipy.io\n",
    "\n",
    "# Datei laden\n",
    "# matLib_FullDatabase\n",
    "data = scipy.io.loadmat(\"matLib_FullDatabase.mat\")\n",
    "\n",
    "# Alle enthaltenen Variablennamen anzeigen\n",
    "\n",
    "print(data.keys())"
   ]
  },
  {
   "cell_type": "code",
   "execution_count": 11,
   "id": "6a28d998",
   "metadata": {},
   "outputs": [
    {
     "name": "stdout",
     "output_type": "stream",
     "text": [
      "Shape: (49, 30)\n",
      "Dtype: float64\n",
      "Min: 0.01319124 Max: 0.9928823755729472\n",
      "The first row: [0.81105    0.976088   0.968871   0.967348   0.96345524 0.91851599\n",
      " 0.94721467 0.92862732 0.95       0.56566667 0.87042641 0.11872205\n",
      " 0.04216988 0.797482   0.35219436 0.92320319 0.86679906 0.95132\n",
      " 0.91584448 0.43094721 0.92972689 0.94962471 0.94400948 0.9337764\n",
      " 0.95       0.9891383  0.90429028 0.95       0.97382015 0.95645746]\n"
     ]
    }
   ],
   "source": [
    "matLib = data['matLib']\n",
    "print(\"Shape:\", matLib.shape)\n",
    "print(\"Dtype:\", matLib.dtype)\n",
    "print(\"Min:\", matLib.min(), \"Max:\", matLib.max())\n",
    "print(f\"The first row: {matLib[0]}\")"
   ]
  },
  {
   "cell_type": "markdown",
   "id": "16fe654c",
   "metadata": {},
   "source": [
    "### Namen von Objekten"
   ]
  },
  {
   "cell_type": "code",
   "execution_count": 3,
   "id": "522d9b52",
   "metadata": {},
   "outputs": [
    {
     "name": "stdout",
     "output_type": "stream",
     "text": [
      "dict_keys(['__header__', '__version__', '__globals__', 'matName'])\n"
     ]
    }
   ],
   "source": [
    "import scipy.io\n",
    "\n",
    "# Datei laden\n",
    "# matLib_FullDatabase\n",
    "data_name = scipy.io.loadmat(\"matName_FullDatabase.mat\")\n",
    "\n",
    "# Alle enthaltenen Variablennamen anzeigen\n",
    "\n",
    "print(data_name.keys())"
   ]
  },
  {
   "cell_type": "code",
   "execution_count": 4,
   "id": "6083544c",
   "metadata": {},
   "outputs": [
    {
     "name": "stdout",
     "output_type": "stream",
     "text": [
      "Shape: (30, 1)\n",
      "The first row: [[array(['sky'], dtype='<U3')]\n",
      " [array(['asphalt'], dtype='<U7')]\n",
      " [array(['tilePavement'], dtype='<U12')]\n",
      " [array(['cinderblock'], dtype='<U11')]\n",
      " [array(['brick'], dtype='<U5')]\n",
      " [array(['wall'], dtype='<U4')]\n",
      " [array(['marble'], dtype='<U6')]\n",
      " [array(['stone'], dtype='<U5')]\n",
      " [array(['soil'], dtype='<U4')]\n",
      " [array(['al'], dtype='<U2')]\n",
      " [array(['weatheredMetal'], dtype='<U14')]\n",
      " [array(['brass'], dtype='<U5')]\n",
      " [array(['al2o3'], dtype='<U5')]\n",
      " [array(['oxidizedSteel'], dtype='<U13')]\n",
      " [array(['iron'], dtype='<U4')]\n",
      " [array(['carpaint'], dtype='<U8')]\n",
      " [array(['plasticPaint'], dtype='<U12')]\n",
      " [array(['yellowSpray'], dtype='<U11')]\n",
      " [array(['carwindow'], dtype='<U9')]\n",
      " [array(['crystalGlass'], dtype='<U12')]\n",
      " [array(['tire'], dtype='<U4')]\n",
      " [array(['cloths'], dtype='<U6')]\n",
      " [array(['card'], dtype='<U4')]\n",
      " [array(['tree'], dtype='<U4')]\n",
      " [array(['grass'], dtype='<U5')]\n",
      " [array(['flower'], dtype='<U6')]\n",
      " [array(['water'], dtype='<U5')]\n",
      " [array(['human'], dtype='<U5')]\n",
      " [array(['bark'], dtype='<U4')]\n",
      " [array(['concrete'], dtype='<U8')]]\n"
     ]
    }
   ],
   "source": [
    "matLibName = data_name['matName']\n",
    "print(\"Shape:\", matLibName.shape)\n",
    "# print(\"Dtype:\", matLibName.dtype)\n",
    "# print(\"Min:\", matLibName.min(), \"Max:\", matLibName.max())\n",
    "print(f\"The first row: {matLibName}\")"
   ]
  },
  {
   "cell_type": "markdown",
   "id": "2b455905",
   "metadata": {},
   "source": [
    "### SEnvObj"
   ]
  },
  {
   "cell_type": "code",
   "execution_count": 12,
   "id": "14bb1c5f",
   "metadata": {},
   "outputs": [
    {
     "name": "stdout",
     "output_type": "stream",
     "text": [
      "dict_keys(['__header__', '__version__', '__globals__', 'S_EnvObj'])\n"
     ]
    }
   ],
   "source": [
    "import scipy.io\n",
    "\n",
    "# Datei laden\n",
    "# matLib_FullDatabase\n",
    "data_S_EnvObj = scipy.io.loadmat(\"S_EnvObj.mat\")\n",
    "\n",
    "# Alle enthaltenen Variablennamen anzeigen\n",
    "\n",
    "print(data_S_EnvObj.keys())"
   ]
  },
  {
   "cell_type": "code",
   "execution_count": 13,
   "id": "b24247b6",
   "metadata": {},
   "outputs": [
    {
     "name": "stdout",
     "output_type": "stream",
     "text": [
      "Shape: (2, 252)\n",
      "Dtype: float64\n",
      "Min: 6.179594116210938 Max: 8.038222336768671\n",
      "The first row: [7.11519931 7.13007849 7.16263912 7.17827102 7.18524958 7.19190322\n",
      " 7.18824559 7.20608963 7.24421515 7.27501266 7.28557911 7.30392041\n",
      " 7.31217988 7.35432745 7.3445693  7.34240916 7.34332029 7.36610881\n",
      " 7.39997538 7.40097709 7.41331106 7.44268833 7.4779124  7.47002401\n",
      " 7.47851958 7.49432321 7.5450278  7.5512656  7.54298955 7.56354537\n",
      " 7.58226628 7.5823856  7.59155733 7.60055047 7.62411488 7.64881055\n",
      " 7.64883188 7.64581036 7.65024771 7.6618416  7.70014322 7.72616967\n",
      " 7.70902522 7.70838132 7.71082731 7.72002668 7.74622749 7.76287502\n",
      " 7.76087074 7.76626041 7.78463525 7.7934785  7.8082961  7.81406268\n",
      " 7.819762   7.83683333 7.83200513 7.83178868 7.8404282  7.8562015\n",
      " 7.8563454  7.86453855 7.87023538 7.87736333 7.88369852 7.89405854\n",
      " 7.9118261  7.91286335 7.91560338 7.9332914  7.94984397 7.95849784\n",
      " 7.97295086 7.98396797 7.99367149 8.00169887 8.0069341  8.01123334\n",
      " 8.00655237 7.99827399 7.99630004 8.00943575 8.01731713 8.01907317\n",
      " 8.02156445 8.02567294 8.03262318 8.03615323 8.03166289 8.03165078\n",
      " 8.03214652 8.03323311 8.03722495 8.03822234 8.03738565 8.03663186\n",
      " 8.03500979 8.02970902 8.02737912 8.02743741 8.02509263 8.02653784\n",
      " 8.02351819 8.02130039 8.01999081 8.01909756 8.01808087 8.01746466\n",
      " 8.01714617 8.01795824 8.01716723 8.01701554 8.01974096 8.02350569\n",
      " 8.02225004 8.02171581 8.01596863 8.01231516 8.01075935 8.00573325\n",
      " 8.0006632  7.99714492 7.99584994 7.99357008 7.99558185 7.9937467\n",
      " 7.98751918 7.98632666 7.99018354 7.98203646 7.97695932 7.9715549\n",
      " 7.96721736 7.96205716 7.9573149  7.95327082 7.94837352 7.9457725\n",
      " 7.94186292 7.93858516 7.93342487 7.93431075 7.92975547 7.93082231\n",
      " 7.91969114 7.91341465 7.90498065 7.8997904  7.89388832 7.88741747\n",
      " 7.88759988 7.88914191 7.87819583 7.86930442 7.85981484 7.85315427\n",
      " 7.84587825 7.84003327 7.83481385 7.82765907 7.82048262 7.81533339\n",
      " 7.81030096 7.8084814  7.8059214  7.79476525 7.7866555  7.78000025\n",
      " 7.76925258 7.76227006 7.75829517 7.74550815 7.73656036 7.72749506\n",
      " 7.72524758 7.72108756 7.70814119 7.69845594 7.69516728 7.68922416\n",
      " 7.6746499  7.66676091 7.65729211 7.65199194 7.64176306 7.63700782\n",
      " 7.64046723 7.64465509 7.62694312 7.61697377 7.60182173 7.59023294\n",
      " 7.57588429 7.56731984 7.55790655 7.55337892 7.55115068 7.53474543\n",
      " 7.52250564 7.51265678 7.50258159 7.49308779 7.48228627 7.47196232\n",
      " 7.46673589 7.46501915 7.45321041 7.43998217 7.4303401  7.41905509\n",
      " 7.40737348 7.39785572 7.38529865 7.37974157 7.3735524  7.37391378\n",
      " 7.35680065 7.34395633 7.32898856 7.32358037 7.31678177 7.30055763\n",
      " 7.28852989 7.28865477 7.27629077 7.25767802 7.253827   7.24994013\n",
      " 7.24448309 7.22413925 7.21235796 7.20151654 7.18303355 7.15967803\n",
      " 7.14774578 7.1313074  7.12756654 7.12052565 7.09463802 7.08532376\n",
      " 7.07116972 7.06831081 7.06192275 7.04587063 7.01645605 7.00534581\n",
      " 6.99565036 6.98774353 6.97721668 6.96995906 6.95678026 6.9452729 ]\n"
     ]
    }
   ],
   "source": [
    "S_EnvObj = data_S_EnvObj['S_EnvObj']\n",
    "print(\"Shape:\", S_EnvObj.shape)\n",
    "print(\"Dtype:\", S_EnvObj.dtype)\n",
    "print(\"Min:\", S_EnvObj.min(), \"Max:\", S_EnvObj.max())\n",
    "print(f\"The first row: {S_EnvObj[0]}\")\n",
    "\n",
    "# S_EnvObj: (2, 252)\n",
    "# → Für jedes Umweltobjekt (2 Stück: Himmel und Sonne) gibt es ein Spektrum mit 252 Kanälen (Wellenlängen).\n"
   ]
  },
  {
   "cell_type": "markdown",
   "id": "612846a1",
   "metadata": {},
   "source": [
    "### Unsere V"
   ]
  },
  {
   "cell_type": "code",
   "execution_count": 6,
   "id": "0d02bae9",
   "metadata": {},
   "outputs": [
    {
     "name": "stdout",
     "output_type": "stream",
     "text": [
      "dict_keys(['__header__', '__version__', '__globals__', 'vMap'])\n"
     ]
    }
   ],
   "source": [
    "import scipy.io\n",
    "\n",
    "# Datei laden\n",
    "# matLib_FullDatabase\n",
    "data_v_map = scipy.io.loadmat(\"vMap2.mat\")\n",
    "\n",
    "# Alle enthaltenen Variablennamen anzeigen\n",
    "\n",
    "print(data_v_map.keys())"
   ]
  },
  {
   "cell_type": "code",
   "execution_count": 9,
   "id": "0b733606",
   "metadata": {},
   "outputs": [
    {
     "name": "stdout",
     "output_type": "stream",
     "text": [
      "Shape: (260, 1500, 2)\n",
      "Dtype: float64\n",
      "Min: 1.2884534689767132e-08 Max: 0.9999999871154653\n",
      "The first row: [[0.26059915 0.73940085]\n",
      " [0.18695516 0.81304484]\n",
      " [0.1608715  0.8391285 ]\n",
      " ...\n",
      " [0.96506197 0.03493803]\n",
      " [0.70514372 0.29485628]\n",
      " [0.57347613 0.42652387]]\n"
     ]
    }
   ],
   "source": [
    "v_map = data_v_map['vMap']\n",
    "print(\"Shape:\", v_map.shape)\n",
    "print(\"Dtype:\", v_map.dtype)\n",
    "print(\"Min:\", v_map.min(), \"Max:\", v_map.max())\n",
    "print(f\"The first row: {v_map[0]}\")\n",
    "\n",
    "# vMap: (260, 1500, 2)\n",
    "# → Für jedes Pixel (260 Zeilen, 1500 Spalten) gibt es einen Vektor mit 2 Werten \n",
    "# (z.B. Anteil Himmel und Anteil Sonne)."
   ]
  },
  {
   "cell_type": "code",
   "execution_count": null,
   "id": "147023db",
   "metadata": {},
   "outputs": [],
   "source": [
    "# // Für jeden Pixel (i,j) und jeden Kanal (k):\n",
    "# Umweltstrahlung(i,j,k) = vMap(i,j,1) * S_EnvObj(1,k) + vMap(i,j,2) * S_EnvObj(2,k)"
   ]
  },
  {
   "cell_type": "markdown",
   "id": "bb6ca9d2",
   "metadata": {},
   "source": [
    "###  Environment object index for each pixel in the image"
   ]
  },
  {
   "cell_type": "code",
   "execution_count": 11,
   "id": "8b6860de",
   "metadata": {},
   "outputs": [
    {
     "name": "stdout",
     "output_type": "stream",
     "text": [
      "dict_keys(['__header__', '__version__', '__globals__', 'DnSmpl_idx'])\n"
     ]
    }
   ],
   "source": [
    "import scipy.io\n",
    "\n",
    "# Datei laden\n",
    "# matLib_FullDatabase\n",
    "data_idx_EnvObj = scipy.io.loadmat(\"Idx_EnvObj.mat\")\n",
    "\n",
    "# Alle enthaltenen Variablennamen anzeigen\n",
    "\n",
    "print(data_idx_EnvObj.keys())"
   ]
  },
  {
   "cell_type": "code",
   "execution_count": 18,
   "id": "5ab14040",
   "metadata": {},
   "outputs": [
    {
     "name": "stdout",
     "output_type": "stream",
     "text": [
      "Shape: (260, 1500)\n",
      "Dtype: uint8\n",
      "Min: 1 Max: 1\n",
      "The first row: [[1 1 1 ... 1 1 1]\n",
      " [1 1 1 ... 1 1 1]\n",
      " [1 1 1 ... 1 1 1]\n",
      " ...\n",
      " [1 1 1 ... 1 1 1]\n",
      " [1 1 1 ... 1 1 1]\n",
      " [1 1 1 ... 1 1 1]]\n"
     ]
    }
   ],
   "source": [
    "idx_EnvObj = data_idx_EnvObj['DnSmpl_idx']\n",
    "print(\"Shape:\", idx_EnvObj.shape)\n",
    "print(\"Dtype:\", idx_EnvObj.dtype)\n",
    "print(\"Min:\", idx_EnvObj.min(), \"Max:\", idx_EnvObj.max())\n",
    "print(f\"The first row: {idx_EnvObj}\")"
   ]
  },
  {
   "cell_type": "code",
   "execution_count": 17,
   "id": "a6479323",
   "metadata": {},
   "outputs": [
    {
     "data": {
      "image/png": "[encoded data removed]",
      "text/plain": [
       "<Figure size 640x480 with 1 Axes>"
      ]
     },
     "metadata": {},
     "output_type": "display_data"
    }
   ],
   "source": [
    "import matplotlib.pyplot as plt\n",
    "import numpy as np\n",
    "\n",
    "plt.imshow(idx_EnvObj)\n",
    "plt.grid(True)\n",
    "plt.show()\n"
   ]
  },
  {
   "cell_type": "code",
   "execution_count": 14,
   "id": "440f6871",
   "metadata": {},
   "outputs": [
    {
     "name": "stdout",
     "output_type": "stream",
     "text": [
      "dict_keys(['__header__', '__version__', '__globals__', 'S0'])\n"
     ]
    }
   ],
   "source": [
    "import scipy.io\n",
    "\n",
    "# Datei laden\n",
    "# matLib_FullDatabase\n",
    "data_S0 = scipy.io.loadmat(\"S0.mat\")\n",
    "\n",
    "# Alle enthaltenen Variablennamen anzeigen\n",
    "\n",
    "print(data_S0.keys())"
   ]
  },
  {
   "cell_type": "code",
   "execution_count": 15,
   "id": "fccc004e",
   "metadata": {},
   "outputs": [
    {
     "name": "stdout",
     "output_type": "stream",
     "text": [
      "Shape: (260, 1500)\n",
      "Dtype: float64\n",
      "Min: 0.0 Max: 0.9999999999999999\n",
      "The first row: [0.75384082 0.74787127 0.74218037 ... 0.91591841 0.91546275 0.91276113]\n"
     ]
    }
   ],
   "source": [
    "S0 = data_S0['S0']\n",
    "print(\"Shape:\", S0.shape)\n",
    "print(\"Dtype:\", S0.dtype)\n",
    "print(\"Min:\", S0.min(), \"Max:\", S0.max())\n",
    "print(f\"The first row: {S0[0]}\")"
   ]
  },
  {
   "cell_type": "markdown",
   "id": "8dc193eb",
   "metadata": {},
   "source": [
    "### Wellenlängen"
   ]
  },
  {
   "cell_type": "code",
   "execution_count": 18,
   "id": "1127bc7f",
   "metadata": {},
   "outputs": [
    {
     "name": "stdout",
     "output_type": "stream",
     "text": [
      "dict_keys(['__header__', '__version__', '__globals__', 'wn'])\n"
     ]
    }
   ],
   "source": [
    "# wavenumber_ExperimentalScenes\n",
    "\n",
    "import scipy.io\n",
    "\n",
    "# Datei laden\n",
    "# matLib_FullDatabase\n",
    "data_wn = scipy.io.loadmat(\"wavenumber_ExperimentalScenes.mat\")\n",
    "\n",
    "# Alle enthaltenen Variablennamen anzeigen\n",
    "\n",
    "print(data_wn.keys())"
   ]
  },
  {
   "cell_type": "code",
   "execution_count": 19,
   "id": "da711fcd",
   "metadata": {},
   "outputs": [
    {
     "name": "stdout",
     "output_type": "stream",
     "text": [
      "Shape: (49, 1)\n",
      "Dtype: uint16\n",
      "Min: 760 Max: 1240\n",
      "The first row: [[ 760]\n",
      " [ 770]\n",
      " [ 780]\n",
      " [ 790]\n",
      " [ 800]\n",
      " [ 810]\n",
      " [ 820]\n",
      " [ 830]\n",
      " [ 840]\n",
      " [ 850]\n",
      " [ 860]\n",
      " [ 870]\n",
      " [ 880]\n",
      " [ 890]\n",
      " [ 900]\n",
      " [ 910]\n",
      " [ 920]\n",
      " [ 930]\n",
      " [ 940]\n",
      " [ 950]\n",
      " [ 960]\n",
      " [ 970]\n",
      " [ 980]\n",
      " [ 990]\n",
      " [1000]\n",
      " [1010]\n",
      " [1020]\n",
      " [1030]\n",
      " [1040]\n",
      " [1050]\n",
      " [1060]\n",
      " [1070]\n",
      " [1080]\n",
      " [1090]\n",
      " [1100]\n",
      " [1110]\n",
      " [1120]\n",
      " [1130]\n",
      " [1140]\n",
      " [1150]\n",
      " [1160]\n",
      " [1170]\n",
      " [1180]\n",
      " [1190]\n",
      " [1200]\n",
      " [1210]\n",
      " [1220]\n",
      " [1230]\n",
      " [1240]]\n"
     ]
    }
   ],
   "source": [
    "matLibWn = data_wn['wn']\n",
    "print(\"Shape:\", matLibWn.shape)\n",
    "print(\"Dtype:\", matLibWn.dtype)\n",
    "print(\"Min:\", matLibWn.min(), \"Max:\", matLibWn.max())\n",
    "print(f\"The first row: {matLibWn}\")"
   ]
  },
  {
   "cell_type": "code",
   "execution_count": 20,
   "id": "a59fef14",
   "metadata": {},
   "outputs": [
    {
     "data": {
      "image/png": "[encoded data removed]",
      "text/plain": [
       "<Figure size 640x480 with 1 Axes>"
      ]
     },
     "metadata": {},
     "output_type": "display_data"
    }
   ],
   "source": [
    "import matplotlib.pyplot as plt\n",
    "import numpy as np\n",
    "\n",
    "index = 24  # Index von \"grass\"\n",
    "emi = matLib[:, index]\n",
    "wn = matLibWn.flatten()  # x-Achse\n",
    "\n",
    "plt.plot(wn, emi)\n",
    "plt.title(f\"Emissivität von {matLibName[index][0][0]}\")\n",
    "plt.xlabel(\"Wellenzahl (cm⁻¹)\")\n",
    "plt.ylabel(\"Emissivität\")\n",
    "plt.grid(True)\n",
    "plt.show()\n"
   ]
  },
  {
   "cell_type": "markdown",
   "id": "f6b1ac16",
   "metadata": {},
   "source": [
    "### Emissivitätsvektor für Bildregionen erstellen (emi_trial)\n",
    "\n",
    "+ Angenommen du hast segmentiert, dass dein Bild 20 % Himmel, 30 % Asphalt, 30 % Gras, 20 % Wasser enthält. Dann:"
   ]
  },
  {
   "cell_type": "code",
   "execution_count": 21,
   "id": "0f33d778",
   "metadata": {},
   "outputs": [
    {
     "name": "stdout",
     "output_type": "stream",
     "text": [
      "S_EnvObj\n",
      ":[[0.81105    0.78432533 0.80371877 0.86174802 0.8031299  0.7493669\n",
      "  0.6775379  0.6540788  0.6572668  0.76509588 0.67642376 0.64845145\n",
      "  0.69196286 0.64348995 0.66557588 0.66075735 0.6869971  0.6519444\n",
      "  0.67899304 0.67526075 0.67005752 0.69318283 0.65065922 0.66968546\n",
      "  0.71300298 0.77840828 0.79530136 0.78926388 0.7968547  0.83356739\n",
      "  0.73406501 0.68760632 0.67565466 0.68194555 0.71301862 0.6851797\n",
      "  0.65323027 0.7369171  0.73922284 0.67502458 0.73308102 0.72443342\n",
      "  0.76057677 0.7425982  0.83309998 0.87580767 0.76557372 0.92867437\n",
      "  0.94613175]\n",
      " [0.976088   0.974728   0.971343   0.974315   0.975173   0.979677\n",
      "  0.979882   0.977381   0.976451   0.976662   0.971046   0.969982\n",
      "  0.968376   0.959636   0.963254   0.965184   0.966149   0.966423\n",
      "  0.966925   0.966477   0.96485    0.963621   0.962695   0.962004\n",
      "  0.960586   0.95906    0.958141   0.956034   0.954913   0.953834\n",
      "  0.949241   0.944134   0.944134   0.94358    0.943979   0.945383\n",
      "  0.946194   0.947039   0.947039   0.949637   0.95464    0.946113\n",
      "  0.946113   0.941114   0.936136   0.936136   0.932446   0.940856\n",
      "  0.940856  ]\n",
      " [0.95       0.95737943 0.94153163 0.93430411 0.92242121 0.92222793\n",
      "  0.91991717 0.91644596 0.91456396 0.91437817 0.91566631 0.91703475\n",
      "  0.91501988 0.91750086 0.91655387 0.91526241 0.91310202 0.91276049\n",
      "  0.91025149 0.90967554 0.91087032 0.90846659 0.91149932 0.91197698\n",
      "  0.9100376  0.90553353 0.90379422 0.90422047 0.90361407 0.90018537\n",
      "  0.90193499 0.9020674  0.90234231 0.90145849 0.90225403 0.90572187\n",
      "  0.90973329 0.90438526 0.90485753 0.91088873 0.91189943 0.90963878\n",
      "  0.91577121 0.91164815 0.91553931 0.91006915 0.90711207 0.91209531\n",
      "  0.9087893 ]\n",
      " [0.90429028 0.90730626 0.91349645 0.92865221 0.9215045  0.91734487\n",
      "  0.90942956 0.90941244 0.91258045 0.94168412 0.93407685 0.93817697\n",
      "  0.95209909 0.94699882 0.95381795 0.95332812 0.95786778 0.95052091\n",
      "  0.95451358 0.95291359 0.95173409 0.95435926 0.944785   0.94730581\n",
      "  0.95474212 0.96391291 0.96497168 0.96413535 0.96608823 0.97069337\n",
      "  0.95407596 0.94709867 0.9434945  0.94506118 0.9496083  0.94522587\n",
      "  0.93877608 0.95082322 0.95226966 0.94339363 0.952629   0.95129274\n",
      "  0.95425226 0.95155258 0.96299932 0.97026158 0.95494489 0.97824082\n",
      "  0.98093255]]\n",
      "\n",
      "Durchschnitt der spektralen Strahlung der Szene\n",
      ": [0.92089446 0.91795855 0.91730543 0.93066578 0.91420514 0.90391383\n",
      " 0.88733324 0.88084634 0.88127394 0.90866805 0.88811382 0.88343071\n",
      " 0.89383115 0.88123881 0.88782113 0.88695101 0.89274828 0.88424811\n",
      " 0.88985427 0.88848063 0.88707442 0.8911347  0.88134714 0.88559255\n",
      " 0.8947361  0.9078423  0.91063517 0.90875619 0.91014671 0.91705796\n",
      " 0.89298099 0.88080142 0.87777273 0.87891289 0.88639529 0.88141258\n",
      " 0.87517946 0.89297534 0.89386746 0.88184136 0.89710383 0.89187077\n",
      " 0.90153107 0.8946588  0.91472245 0.92307539 0.89597114 0.93726843\n",
      " 0.94030645]\n"
     ]
    }
   ],
   "source": [
    "# Indizes aus der matName-Liste (nachprüfen!)\n",
    "idx_himmel = 0\n",
    "idx_asphalt = 1\n",
    "idx_gras = 24\n",
    "idx_wasser = 26\n",
    "\n",
    "# Gewichtungsvektor (Summe = 1)\n",
    "V = np.array([0.2, 0.3, 0.3, 0.2])\n",
    "\n",
    "# Emissivitätsmatrix dieser Materialien holen (49 x 4)\n",
    "emi_mat = np.stack([\n",
    "    matLib[:, idx_himmel],\n",
    "    matLib[:, idx_asphalt],\n",
    "    matLib[:, idx_gras],\n",
    "    matLib[:, idx_wasser]\n",
    "], axis=1)\n",
    "\n",
    "# Gewichtete Emissivität berechnen\n",
    "emi_trial = emi_mat @ V  # ergibt Vektor mit 49 Werten\n",
    "\n",
    "\n",
    "print(f\"S_EnvObj\\n:{emi_mat.T}\") # Transponiert damit wir Himmel ganz oben haben usw..\n",
    "print(f\"\\nDurchschnitt der spektralen Strahlung der Szene\\n: {emi_trial}\")"
   ]
  },
  {
   "cell_type": "code",
   "execution_count": 22,
   "id": "a1291edd",
   "metadata": {},
   "outputs": [
    {
     "name": "stdout",
     "output_type": "stream",
     "text": [
      "Wellenlängen [µm]: [ 8. 10. 12.]\n",
      "X(λ)  (Umgebungsstrahlung): [1.02 0.91 0.83]\n",
      "rho(λ)=1-eps(λ): [0.05 0.1  0.15]\n",
      "S_meas(λ): [9517527.098191 9668782.258248 8143263.694765]\n",
      "T_true = 305.00 K,  T_est = 305.00 K\n",
      "Fit-Restfehler (Sum of squares) = 2.307e-16\n"
     ]
    }
   ],
   "source": [
    "import numpy as np\n",
    "from scipy.optimize import least_squares\n",
    "\n",
    "# -------------------------------\n",
    "# 1) Beispiel-Daten\n",
    "# -------------------------------\n",
    "# Wellenlängen in µm (z.B. 3 Kanäle)\n",
    "lam_um = np.array([8.0, 10.0, 12.0])\n",
    "\n",
    "# Umgebungsobjekte: 2 Materialien × 3 Wellenlängen (Radiance-Einheiten konsistent!)\n",
    "S_EnvObj = np.array([\n",
    "    [1.20, 1.00, 0.80],  # Himmel\n",
    "    [0.60, 0.70, 0.90],  # Vegetation\n",
    "])\n",
    "\n",
    "# Sichtanteile (Summe = 1): 70% Himmel, 30% Vegetation\n",
    "V = np.array([0.7, 0.3])\n",
    "\n",
    "# Emissivität des Zielobjekts (pro Wellenlänge)\n",
    "eps = np.array([0.95, 0.90, 0.85])\n",
    "rho = 1.0 - eps\n",
    "\n",
    "# -------------------------------\n",
    "# 2) Umgebungsstrahlung X(λ)\n",
    "# -------------------------------\n",
    "X = (V @ S_EnvObj).T  # -> (3,) = gemischte Umgebungsstrahlung\n",
    "# Alternativ explizit: X = (V @ S_EnvObj)  (hier bereits 1D mit Länge 3)\n",
    "\n",
    "# -------------------------------\n",
    "# 3) Planck-Funktion B(λ, T)\n",
    "#    (λ in µm; Ergebnis in W·m^-3·sr^-1; für viele Anwendungen reicht relative Form)\n",
    "# -------------------------------\n",
    "def planck_lambda(lam_um, T):\n",
    "    h  = 6.62607015e-34\n",
    "    c  = 2.99792458e8\n",
    "    kB = 1.380649e-23\n",
    "    lam = lam_um * 1e-6  # µm -> m\n",
    "    num = 2*h*c**2 / lam**5\n",
    "    den = np.exp((h*c)/(lam*kB*T)) - 1.0\n",
    "    return num / den  # Achtung: Einheiten ggf. auf W/(m^2 sr µm) skalieren, falls nötig.\n",
    "\n",
    "# -------------------------------\n",
    "# 4) Vorwärtsmodell: S_meas = eps*B + (1-eps)*X\n",
    "#    -> Wir simulieren Messung mit einer \"wahren\" Temperatur T_true\n",
    "# -------------------------------\n",
    "T_true = 305.0  # K (nur Beispiel)\n",
    "B_true = planck_lambda(lam_um, T_true)\n",
    "S_emit_true = eps * B_true\n",
    "S_refl_true = rho * X\n",
    "S_meas = S_emit_true + S_refl_true\n",
    "\n",
    "# Optional: Messrauschen hinzufügen\n",
    "# rng = np.random.default_rng(42)\n",
    "# S_meas = S_meas * (1.0 + 0.005*rng.standard_normal(S_meas.shape))\n",
    "\n",
    "# -------------------------------\n",
    "# 5) Inversion: T schätzen aus S_meas, eps und X\n",
    "# -------------------------------\n",
    "def residual_T(T):\n",
    "    B = planck_lambda(lam_um, T[0])\n",
    "    model = eps * B + rho * X\n",
    "    return S_meas - model  # Least-Squares-Residuum\n",
    "\n",
    "res = least_squares(residual_T, x0=[300.0], bounds=(200.0, 500.0), max_nfev=200)\n",
    "T_est = float(res.x[0])\n",
    "\n",
    "# -------------------------------\n",
    "# 6) Ergebnisse ausgeben\n",
    "# -------------------------------\n",
    "print(\"Wellenlängen [µm]:\", lam_um)\n",
    "print(\"X(λ)  (Umgebungsstrahlung):\", np.round(X, 6))\n",
    "print(\"rho(λ)=1-eps(λ):\", rho)\n",
    "print(\"S_meas(λ):\", np.round(S_meas, 6))\n",
    "print(f\"T_true = {T_true:.2f} K,  T_est = {T_est:.2f} K\")\n",
    "print(f\"Fit-Restfehler (Sum of squares) = {res.cost:.3e}\")\n"
   ]
  },
  {
   "cell_type": "code",
   "execution_count": null,
   "id": "9f5c3487",
   "metadata": {},
   "outputs": [],
   "source": [
    "# S = ε · B(T) + (1 - ε) · vᵀ S_env\n",
    "\n",
    "indt = 3  # Material 4 (nullbasiert!)\n",
    "emi_trial = matLib[:, indt]  # Alle 252 Werte für Material 4\n",
    "\n",
    "print(emi_trial[:5])  # Zeige die ersten 5 Emissivitätswerte\n",
    "\n",
    "\n",
    "# Beispiel: B(T) ist eine Liste mit 252 Werten (Planck-Funktion bei Temperatur T)\n",
    "# X ist das Umgebungsstrahlungsspektrum (auch 252 Werte)\n",
    "# Annahme: B_T und X sind 1D-Arrays der Länge 252\n",
    "\n",
    "S = emi_trial * B_T + (1 - emi_trial) * X\n"
   ]
  },
  {
   "cell_type": "code",
   "execution_count": 10,
   "id": "2fd8f2db",
   "metadata": {},
   "outputs": [],
   "source": [
    "# Alles aufschreiben\n",
    "# Kamera und die schritte die unternehmen werden müssen für jeden Messung.\n",
    "\n",
    "# Kamera wo wir alles ausleihunen könne.\n",
    "\n",
    "# https://www.cia.gov/readingroom/docs/cia-rdp96-00788r001700210016-5.pdf\n",
    "       \n",
    "# https://www.chnspec.net/de/Deutsch/FS-IQ-Portable-hyperspectral-camera.html"
   ]
  },
  {
   "cell_type": "code",
   "execution_count": null,
   "id": "2f7063d6",
   "metadata": {},
   "outputs": [],
   "source": []
  },
  {
   "cell_type": "code",
   "execution_count": null,
   "id": "54e6c778",
   "metadata": {},
   "outputs": [],
   "source": []
  }
 ],
 "metadata": {
  "kernelspec": {
   "display_name": "Python 3 (ipykernel)",
   "language": "python",
   "name": "python3"
  },
  "language_info": {
   "codemirror_mode": {
    "name": "ipython",
    "version": 3
   },
   "file_extension": ".py",
   "mimetype": "text/x-python",
   "name": "python",
   "nbconvert_exporter": "python",
   "pygments_lexer": "ipython3",
   "version": "3.10.18"
  }
 },
 "nbformat": 4,
 "nbformat_minor": 5
}
